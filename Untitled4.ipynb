{
  "nbformat": 4,
  "nbformat_minor": 0,
  "metadata": {
    "colab": {
      "provenance": [],
      "authorship_tag": "ABX9TyPUiwv3ureeEyZ1OUK2g/ZN",
      "include_colab_link": true
    },
    "kernelspec": {
      "name": "python3",
      "display_name": "Python 3"
    },
    "language_info": {
      "name": "python"
    }
  },
  "cells": [
    {
      "cell_type": "markdown",
      "metadata": {
        "id": "view-in-github",
        "colab_type": "text"
      },
      "source": [
        "<a href=\"https://colab.research.google.com/github/sandeep0430/PDS-assignment2/blob/main/Untitled4.ipynb\" target=\"_parent\"><img src=\"https://colab.research.google.com/assets/colab-badge.svg\" alt=\"Open In Colab\"/></a>"
      ]
    },
    {
      "cell_type": "code",
      "execution_count": 25,
      "metadata": {
        "colab": {
          "base_uri": "https://localhost:8080/"
        },
        "id": "AmpFGWr7g_mZ",
        "outputId": "5ed7c985-3c23-4c2e-b16e-62f371a92764"
      },
      "outputs": [
        {
          "output_type": "stream",
          "name": "stdout",
          "text": [
            "Columns:\n",
            " ['Unnamed: 0', 'Name', 'Location', 'Year', 'Kilometers_Driven', 'Fuel_Type', 'Transmission', 'Owner_Type', 'Mileage', 'Engine', 'Power', 'Seats', 'New_Price', 'Price']\n"
          ]
        }
      ],
      "source": [
        "import pandas as pd\n",
        "from datetime import datetime\n",
        "\n",
        "# Load the dataset (Update with your actual file path)\n",
        "df = pd.read_csv('/content/train.csv')  # Replace with actual filename\n",
        "\n",
        "# Clean column names by stripping leading/trailing spaces\n",
        "df.columns = df.columns.str.strip()\n",
        "\n",
        "# Check column names (optional)\n",
        "print(\"Columns:\\n\", df.columns.tolist())\n"
      ]
    },
    {
      "cell_type": "code",
      "source": [
        "print(\"\\n Count of Missing Values After Imputation:\")\n",
        "print(df.isnull().sum())\n"
      ],
      "metadata": {
        "colab": {
          "base_uri": "https://localhost:8080/"
        },
        "id": "ssoasLAShmOQ",
        "outputId": "406ba27b-147d-4c3d-9a78-548d9816506b"
      },
      "execution_count": 26,
      "outputs": [
        {
          "output_type": "stream",
          "name": "stdout",
          "text": [
            "\n",
            " Count of Missing Values After Imputation:\n",
            "Unnamed: 0              0\n",
            "Name                    0\n",
            "Location                0\n",
            "Year                    0\n",
            "Kilometers_Driven       0\n",
            "Fuel_Type               0\n",
            "Transmission            0\n",
            "Owner_Type              0\n",
            "Mileage                 2\n",
            "Engine                 36\n",
            "Power                  36\n",
            "Seats                  38\n",
            "New_Price            5032\n",
            "Price                   0\n",
            "dtype: int64\n"
          ]
        }
      ]
    },
    {
      "cell_type": "markdown",
      "source": [
        "QUESTION A:"
      ],
      "metadata": {
        "id": "H_dFJ7l9jIAq"
      }
    },
    {
      "cell_type": "code",
      "source": [
        "#a.\n",
        "# Handle missing values\n",
        "for col in df.columns:\n",
        "    missing_count = df[col].isnull().sum()\n",
        "    if missing_count > 0:\n",
        "        if pd.api.types.is_numeric_dtype(df[col]):\n",
        "            median_val = df[col].median()\n",
        "            df[col].fillna(median_val, inplace=True)\n",
        "            print(f\"Imputed {missing_count} missing values in numeric column '{col}' with median = {median_val}\")\n",
        "        else:\n",
        "            mode_val = df[col].mode()[0]\n",
        "            df[col].fillna(mode_val, inplace=True)\n",
        "            print(f\"Imputed {missing_count} missing values in categorical column '{col}' with mode = '{mode_val}'\")\n",
        "\n",
        "# Show count of missing values after imputation\n",
        "print(\"\\n Count of Missing Values After Imputation:\")\n",
        "print(df.isnull().sum())\n"
      ],
      "metadata": {
        "colab": {
          "base_uri": "https://localhost:8080/"
        },
        "id": "rzm_yUcXhdVo",
        "outputId": "5c7823e5-360c-43bd-86d3-53c3d2131a71"
      },
      "execution_count": 27,
      "outputs": [
        {
          "output_type": "stream",
          "name": "stdout",
          "text": [
            "Imputed 2 missing values in categorical column 'Mileage' with mode = '18.9 kmpl'\n",
            "Imputed 36 missing values in categorical column 'Engine' with mode = '1197 CC'\n",
            "Imputed 36 missing values in categorical column 'Power' with mode = '74 bhp'\n",
            "Imputed 38 missing values in numeric column 'Seats' with median = 5.0\n",
            "Imputed 5032 missing values in categorical column 'New_Price' with mode = '4.78 Lakh'\n",
            "\n",
            " Count of Missing Values After Imputation:\n",
            "Unnamed: 0           0\n",
            "Name                 0\n",
            "Location             0\n",
            "Year                 0\n",
            "Kilometers_Driven    0\n",
            "Fuel_Type            0\n",
            "Transmission         0\n",
            "Owner_Type           0\n",
            "Mileage              0\n",
            "Engine               0\n",
            "Power                0\n",
            "Seats                0\n",
            "New_Price            0\n",
            "Price                0\n",
            "dtype: int64\n"
          ]
        },
        {
          "output_type": "stream",
          "name": "stderr",
          "text": [
            "<ipython-input-27-398279c9bda4>:12: FutureWarning: A value is trying to be set on a copy of a DataFrame or Series through chained assignment using an inplace method.\n",
            "The behavior will change in pandas 3.0. This inplace method will never work because the intermediate object on which we are setting values always behaves as a copy.\n",
            "\n",
            "For example, when doing 'df[col].method(value, inplace=True)', try using 'df.method({col: value}, inplace=True)' or df[col] = df[col].method(value) instead, to perform the operation inplace on the original object.\n",
            "\n",
            "\n",
            "  df[col].fillna(mode_val, inplace=True)\n",
            "<ipython-input-27-398279c9bda4>:8: FutureWarning: A value is trying to be set on a copy of a DataFrame or Series through chained assignment using an inplace method.\n",
            "The behavior will change in pandas 3.0. This inplace method will never work because the intermediate object on which we are setting values always behaves as a copy.\n",
            "\n",
            "For example, when doing 'df[col].method(value, inplace=True)', try using 'df.method({col: value}, inplace=True)' or df[col] = df[col].method(value) instead, to perform the operation inplace on the original object.\n",
            "\n",
            "\n",
            "  df[col].fillna(median_val, inplace=True)\n"
          ]
        }
      ]
    },
    {
      "cell_type": "markdown",
      "source": [
        "To ensure the dataset was complete, we first checked each column for any missing values. For numerical columns, we chose to fill the gaps using the median, as it's a more reliable measure in the presence of outliers and skewed distributions. For categorical data, we used the mode, since it's the most common value and helps maintain consistency without introducing unrealistic categories.\n",
        "\n",
        "This approach allowed us to keep the original data intact rather than dropping rows or columns, preserving both data volume and structure. It also ensured that the filled values were representative of existing trends in the dataset. After completing the imputation process, the dataset was free of missing entries and fully ready for further analysis and modeling."
      ],
      "metadata": {
        "id": "RN7Xm0MCufju"
      }
    },
    {
      "cell_type": "markdown",
      "source": [
        "QUESTION B:"
      ],
      "metadata": {
        "id": "v09emv_4jiqS"
      }
    },
    {
      "cell_type": "code",
      "source": [
        "# b. Convert to string before extracting numbers from string+unit columns\n",
        "df['Mileage'] = df['Mileage'].astype(str).str.extract(r'(\\d+\\.?\\d*)').astype(float)\n",
        "df['Engine'] = df['Engine'].astype(str).str.extract(r'(\\d+\\.?\\d*)').astype(float)\n",
        "df['Power'] = df['Power'].astype(str).str.extract(r'(\\d+\\.?\\d*)').astype(float)\n",
        "\n",
        "# Clean 'New_Price' column (removing 'Lakh' and converting to float)\n",
        "df['New_Price'] = df['New_Price'].astype(str).str.replace(' Lakh', '', regex=False)\n",
        "df['New_Price'] = df['New_Price'].str.extract(r'(\\d+\\.?\\d*)').astype(float)\n",
        "print(df[['Mileage', 'Engine', 'Power', 'New_Price']].head())\n"
      ],
      "metadata": {
        "colab": {
          "base_uri": "https://localhost:8080/"
        },
        "id": "RPCmNPgnhpJJ",
        "outputId": "81154363-2307-4ef6-ea42-c85b72023fc4"
      },
      "execution_count": 35,
      "outputs": [
        {
          "output_type": "stream",
          "name": "stdout",
          "text": [
            "   Mileage  Engine   Power  New_Price\n",
            "0    19.67  1582.0  126.20       4.78\n",
            "1    13.00  1199.0   88.70       8.61\n",
            "2    20.77  1248.0   88.76       4.78\n",
            "3    15.20  1968.0  140.80       4.78\n",
            "4    23.08  1461.0   63.10       4.78\n"
          ]
        }
      ]
    },
    {
      "cell_type": "markdown",
      "source": [
        "QUESTION C:"
      ],
      "metadata": {
        "id": "KbrpDns9j5j9"
      }
    },
    {
      "cell_type": "code",
      "source": [
        "# Ensure consistent column names again\n",
        "df.columns = df.columns.str.strip()\n",
        "\n",
        "# Perform one-hot encoding\n",
        "df = pd.get_dummies(df, columns=['Fuel_Type', 'Transmission'], drop_first=True)\n",
        "\n",
        "print(\" One-Hot Encoded DataFrame Preview:\\n\", df.head())\n"
      ],
      "metadata": {
        "colab": {
          "base_uri": "https://localhost:8080/"
        },
        "id": "nK5C6Ib_h-vK",
        "outputId": "da49aad4-bb89-42b6-922d-bd8164234390"
      },
      "execution_count": 29,
      "outputs": [
        {
          "output_type": "stream",
          "name": "stdout",
          "text": [
            " One-Hot Encoded DataFrame Preview:\n",
            "    Unnamed: 0                              Name    Location  Year  \\\n",
            "0           1  Hyundai Creta 1.6 CRDi SX Option        Pune  2015   \n",
            "1           2                      Honda Jazz V     Chennai  2011   \n",
            "2           3                 Maruti Ertiga VDI     Chennai  2012   \n",
            "3           4   Audi A4 New 2.0 TDI Multitronic  Coimbatore  2013   \n",
            "4           6            Nissan Micra Diesel XV      Jaipur  2013   \n",
            "\n",
            "   Kilometers_Driven Owner_Type  Mileage  Engine   Power  Seats  New_Price  \\\n",
            "0              41000      First    19.67  1582.0  126.20    5.0       4.78   \n",
            "1              46000      First    13.00  1199.0   88.70    5.0       8.61   \n",
            "2              87000      First    20.77  1248.0   88.76    7.0       4.78   \n",
            "3              40670     Second    15.20  1968.0  140.80    5.0       4.78   \n",
            "4              86999      First    23.08  1461.0   63.10    5.0       4.78   \n",
            "\n",
            "   Price  Fuel_Type_Electric  Fuel_Type_Petrol  Transmission_Manual  \n",
            "0  12.50               False             False                 True  \n",
            "1   4.50               False              True                 True  \n",
            "2   6.00               False             False                 True  \n",
            "3  17.74               False             False                False  \n",
            "4   3.50               False             False                 True  \n"
          ]
        }
      ]
    },
    {
      "cell_type": "markdown",
      "source": [
        "QUESTION D:"
      ],
      "metadata": {
        "id": "QaVV5LEAkB2c"
      }
    },
    {
      "cell_type": "code",
      "source": [
        "# Current year\n",
        "current_year = datetime.now().year\n",
        "\n",
        "# Calculate car age\n",
        "df['Car_Age'] = current_year - df['Year']\n",
        "\n",
        "print(\"Added 'Car_Age' column:\\n\", df[['Year', 'Car_Age']].head())\n"
      ],
      "metadata": {
        "colab": {
          "base_uri": "https://localhost:8080/"
        },
        "id": "MtB69rAliiNe",
        "outputId": "b198a7f2-0ccd-44a7-e1d9-958e05efb80b"
      },
      "execution_count": 31,
      "outputs": [
        {
          "output_type": "stream",
          "name": "stdout",
          "text": [
            "Added 'Car_Age' column:\n",
            "    Year  Car_Age\n",
            "0  2015       10\n",
            "1  2011       14\n",
            "2  2012       13\n",
            "3  2013       12\n",
            "4  2013       12\n"
          ]
        }
      ]
    },
    {
      "cell_type": "markdown",
      "source": [
        "QUESTION E:"
      ],
      "metadata": {
        "id": "Sr4FhSKHkhB6"
      }
    },
    {
      "cell_type": "code",
      "source": [
        "# Select and filter\n",
        "selected_cols = df[['Name', 'Location', 'Price', 'Car_Age']]\n",
        "filtered_df = selected_cols[selected_cols['Car_Age'] < 8]\n",
        "\n",
        "# Rename column\n",
        "df.rename(columns={'Kilometers_Driven': 'Odometer_km'}, inplace=True)\n",
        "\n",
        "# Mutate new column: price per year of age\n",
        "df['Price_per_Year'] = df['Price'] / (df['Car_Age'] + 1)\n",
        "\n",
        "# Arrange/sort by descending price\n",
        "sorted_df = df.sort_values(by='Price', ascending=False)\n",
        "\n",
        "# Summarize average price by Owner Type\n",
        "summary_df = df.groupby('Owner_Type')['Price'].mean().reset_index()\n",
        "\n",
        "# Show results\n",
        "print(\"Filtered (Age < 8):\\n\", filtered_df.head())\n",
        "print(\" Price per Year Column:\\n\", df[['Price', 'Car_Age', 'Price_per_Year']].head())\n",
        "print(\" Top Cars by Price:\\n\", sorted_df[['Name', 'Price']].head())\n",
        "print(\" Average Price by Owner Type:\\n\", summary_df)\n"
      ],
      "metadata": {
        "colab": {
          "base_uri": "https://localhost:8080/"
        },
        "id": "GLHIYnB4iqoH",
        "outputId": "bf68e08d-db16-4e61-9a31-b066786256f1"
      },
      "execution_count": 32,
      "outputs": [
        {
          "output_type": "stream",
          "name": "stdout",
          "text": [
            "Filtered (Age < 8):\n",
            "                                         Name    Location  Price  Car_Age\n",
            "8                           Maruti Ciaz Zeta       Kochi   9.95        7\n",
            "26                       Honda WRV i-VTEC VX       Kochi   9.90        7\n",
            "34             Maruti Vitara Brezza ZDi Plus       Kochi   8.63        7\n",
            "65  Mercedes-Benz C-Class Progressive C 220d  Coimbatore  35.67        6\n",
            "67           Hyundai Creta 1.4 E Plus Diesel      Mumbai  10.50        7\n",
            " Price per Year Column:\n",
            "    Price  Car_Age  Price_per_Year\n",
            "0  12.50       10        1.136364\n",
            "1   4.50       14        0.300000\n",
            "2   6.00       13        0.428571\n",
            "3  17.74       12        1.364615\n",
            "4   3.50       12        0.269231\n",
            " Top Cars by Price:\n",
            "                                              Name   Price\n",
            "3952  Land Rover Range Rover 3.0 Diesel LWB Vogue  160.00\n",
            "5620                   Lamborghini Gallardo Coupe  120.00\n",
            "5752                       Jaguar F Type 5.0 V8 S  100.00\n",
            "1457              Land Rover Range Rover Sport SE   97.07\n",
            "1917                           BMW 7 Series 740Li   93.67\n",
            " Average Price by Owner Type:\n",
            "        Owner_Type      Price\n",
            "0           First  10.105076\n",
            "1  Fourth & Above   3.415000\n",
            "2          Second   7.839719\n",
            "3           Third   5.348058\n"
          ]
        }
      ]
    }
  ]
}